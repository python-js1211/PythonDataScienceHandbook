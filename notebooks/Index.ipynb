{
 "cells": [
  {
   "cell_type": "markdown",
   "metadata": {},
   "source": [
    "# Python Data Science Handbook\n",
    "\n",
    "*Jake VanderPlas*\n",
    "\n",
    "![Book Cover](figures/PDSH-cover.png)"
   ]
  },
  {
   "cell_type": "markdown",
   "metadata": {},
   "source": [
    "This is the Jupyter notebook version of the [Python Data Science Handbook](http://shop.oreilly.com/product/0636920034919.do) by Jake VanderPlas; the content is available [on GitHub](https://github.com/jakevdp/PythonDataScienceHandbook).*\n",
    "The text is released under the [CC-BY-NC-ND license](https://creativecommons.org/licenses/by-nc-nd/3.0/us/legalcode), and code is released under the [MIT license](https://opensource.org/licenses/MIT). If you find this content useful, please support the work by [buying the book](http://shop.oreilly.com/product/0636920034919.do)!"
   ]
  },
  {
   "cell_type": "markdown",
   "metadata": {},
   "source": [
    "## Table of Contents\n",
    "\n",
    "### [Preface](00.00-Preface.ipynb)\n",
    "\n",
    "### [IPython: Beyond Normal Python](01.00-IPython-Beyond-Normal-Python.ipynb)\n",
    "- [Help and Documentation in IPython](01.01-Help-And-Documentation.ipynb)\n",
    "- [Keyboard Shortcuts in the IPython Shell](01.02-Shell-Keyboard-Shortcuts.ipynb)\n",
    "- [IPython Magic Commands](01.03-Magic-Commands.ipynb)\n",
    "- [Input and Output History](01.04-Input-Output-History.ipynb)\n",
    "- [IPython and Shell Commands](01.05-IPython-And-Shell-Commands.ipynb)\n",
    "- [Errors and Debugging](01.06-Errors-and-Debugging.ipynb)\n",
    "- [Profiling and Timing Code](01.07-Timing-and-Profiling.ipynb)\n",
    "- [More IPython Resources](01.08-More-IPython-Resources.ipynb)\n",
    "\n",
    "### [Introduction to NumPy](02.00-Introduction-to-NumPy.ipynb)\n",
    "- [Understanding Data Types in Python](02.01-Understanding-Data-Types.ipynb)\n",
    "- [The Basics of NumPy Arrays](02.02-The-Basics-Of-NumPy-Arrays.ipynb)\n",
    "- [Computation on NumPy Arrays: Universal Functions](02.03-Computation-on-arrays-ufuncs.ipynb)\n",
    "- [Aggregations: Min, Max, and Everything In Between](02.04-Computation-on-arrays-aggregates.ipynb)\n",
    "- [Computation on Arrays: Broadcasting](02.05-Computation-on-arrays-broadcasting.ipynb)\n",
    "- [Comparisons, Masks, and Boolean Logic](02.06-Boolean-Arrays-and-Masks.ipynb)\n",
    "- [Fancy Indexing](02.07-Fancy-Indexing.ipynb)\n",
    "- [Sorting Arrays](02.08-Sorting.ipynb)\n",
    "- [Structured Data: NumPy's Structured Arrays](02.09-Structured-Data-NumPy.ipynb)\n",
    "\n",
    "### Data Manipulation with Pandas *(coming soon)*\n",
    "\n",
    "### Visualization with Matplotlib *(coming soon)*\n",
    "\n",
    "### Machine Learning *(coming soon)*\n",
    "\n",
    "### [Appendix: Figure Code](06.00-Figure-Code.ipynb)"
   ]
  }
 ],
 "metadata": {
  "anaconda-cloud": {},
  "kernelspec": {
   "display_name": "Python [default]",
   "language": "python",
   "name": "python3"
  },
  "language_info": {
   "codemirror_mode": {
    "name": "ipython",
    "version": 3
   },
   "file_extension": ".py",
   "mimetype": "text/x-python",
   "name": "python",
   "nbconvert_exporter": "python",
   "pygments_lexer": "ipython3",
   "version": "3.5.1"
  }
 },
 "nbformat": 4,
 "nbformat_minor": 0
}
